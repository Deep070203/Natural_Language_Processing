{
 "cells": [
  {
   "cell_type": "markdown",
   "id": "ead7af2f",
   "metadata": {},
   "source": [
    "# Text Classification"
   ]
  },
  {
   "cell_type": "markdown",
   "id": "573799b0",
   "metadata": {},
   "source": [
    "The process of categorizing text into organized categories"
   ]
  },
  {
   "cell_type": "markdown",
   "id": "f83799de",
   "metadata": {},
   "source": [
    "1. Data Collection: From a website or a database\n",
    "2. Preprocessing: To Remove anything that is not goint to be needed in order to understand the context and meaning.\n",
    "3. Feature Extraction: The key features that are going to be useful in determining what do we mean by that text and how can we classify into multiple categories.\n",
    "4. Model training: Pick a classification model that will enable us to pre-label the data and explain us the categories that the dataset belongs to.\n",
    "5. Prediction: Which class does our text belongs to?"
   ]
  },
  {
   "cell_type": "markdown",
   "id": "baa43105",
   "metadata": {},
   "source": [
    "## Component of Text Classification Sytems"
   ]
  },
  {
   "cell_type": "markdown",
   "id": "c8ead8f4",
   "metadata": {},
   "source": [
    "Data Source: Documents, Online Articles, Collection using Web Scraping and APIs\n",
    "\n",
    "Preprocessing tools and libraries: Cleaning -> Tokenize -> Normalize -> Stop Words Removal -> Stemming and Lemmatizing\n",
    "\n",
    "Feature extraction: Vectorization (Transforming into Numerical Values), Embeddings (Capturing Semantic Meaning)\n",
    "\n",
    "Classification Algorithms: Naive Bayes, Logistic Regression, Support Vector Machine, Decision Trees, Random Forest, Neural Networks\n",
    "\n",
    "Evaluation and Optimization (Using accuracy optimization): Metrics, Hyperparameter tuning (Adjusting model parameters), Cross Validation (Testing Using Subsets of the data)"
   ]
  },
  {
   "cell_type": "markdown",
   "id": "064c06cd",
   "metadata": {},
   "source": [
    "## Binary vs. Multi-class Classification"
   ]
  },
  {
   "cell_type": "markdown",
   "id": "63ba76f2",
   "metadata": {},
   "source": [
    "Binary Classification: Categorizing data into two distinct groups\n",
    "\n",
    "Examples: Email Filtering, Sentiment Analysis\n",
    "\n",
    "Characteristics: Clear-cut decision boundary, Simpler as it involves only two classes, Commonly used for yes-no type decisions\n",
    "\n",
    "Mutli-Class Classification: More than two groups\n",
    "\n",
    "Examples: News Categorization, Product Categorization\n",
    "\n",
    "Characteristics: Multiple decision boundaries, More complex due to presence of several classes, Used when data can belong to multiple distinct categories."
   ]
  },
  {
   "cell_type": "markdown",
   "id": "314ccbb4",
   "metadata": {},
   "source": [
    "### Feature Selection Example"
   ]
  },
  {
   "cell_type": "code",
   "execution_count": 4,
   "id": "4bd20863",
   "metadata": {},
   "outputs": [],
   "source": [
    "from sklearn.feature_extraction.text import TfidfVectorizer\n",
    "from sklearn.feature_selection import SelectKBest, chi2 # select some of the best features in our text\n",
    "\n",
    "texts = [\"Sport news\", \"Cooking blog\"]\n",
    "\n",
    "labels = [0, 1] # 0 for sports, 1 for cooking\n",
    "\n",
    "X = TfidfVectorizer().fit_transform(texts) # Converting text data into numerical values\n",
    "\n",
    "s = SelectKBest(chi2, k=2).fit(X, labels) # Select the top features which are relevant\n"
   ]
  },
  {
   "cell_type": "markdown",
   "id": "ef2a4f9b",
   "metadata": {},
   "source": [
    "## Text Preprocessing and Vectorization Techniques"
   ]
  },
  {
   "cell_type": "markdown",
   "id": "a8719114",
   "metadata": {},
   "source": [
    "Vectorization methods = Bag-of-Words, TF-IDF, Word Embeddings"
   ]
  },
  {
   "cell_type": "code",
   "execution_count": 10,
   "id": "7d4f91c4",
   "metadata": {},
   "outputs": [
    {
     "name": "stdout",
     "output_type": "stream",
     "text": [
      "[[0.5 0.5 0.5 0.5]]\n"
     ]
    }
   ],
   "source": [
    "from sklearn.feature_extraction.text import TfidfVectorizer\n",
    "\n",
    "texts = [\"Machine Learning is fascinating\"]\n",
    "\n",
    "# Initialize and apply TF-IDF Vectorizer\n",
    "vectorizer = TfidfVectorizer()\n",
    "tfidf_matrix = vectorizer.fit_transform(texts)\n",
    "\n",
    "print(tfidf_matrix.toarray())"
   ]
  },
  {
   "cell_type": "markdown",
   "id": "3975add6",
   "metadata": {},
   "source": [
    "## Preprocessing the Profiles Dataset"
   ]
  },
  {
   "cell_type": "code",
   "execution_count": 11,
   "id": "9f9df4b7",
   "metadata": {},
   "outputs": [
    {
     "name": "stderr",
     "output_type": "stream",
     "text": [
      "[nltk_data] Downloading package stopwords to\n",
      "[nltk_data]     /Users/deepshah/nltk_data...\n",
      "[nltk_data]   Package stopwords is already up-to-date!\n",
      "[nltk_data] Downloading package punkt to /Users/deepshah/nltk_data...\n",
      "[nltk_data]   Package punkt is already up-to-date!\n"
     ]
    }
   ],
   "source": [
    "# Setup packages\n",
    "import pandas as pd\n",
    "\n",
    "from sklearn.feature_extraction.text import CountVectorizer, TfidfVectorizer\n",
    "from sklearn.preprocessing import LabelEncoder, normalize\n",
    "\n",
    "import nltk\n",
    "nltk.download('stopwords')\n",
    "nltk.download('punkt')\n",
    "from nltk.corpus import stopwords\n",
    "from nltk.stem import PorterStemmer\n",
    "\n",
    "import re"
   ]
  },
  {
   "cell_type": "code",
   "execution_count": 12,
   "id": "3c8622ad",
   "metadata": {},
   "outputs": [
    {
     "data": {
      "text/html": [
       "<div>\n",
       "<style scoped>\n",
       "    .dataframe tbody tr th:only-of-type {\n",
       "        vertical-align: middle;\n",
       "    }\n",
       "\n",
       "    .dataframe tbody tr th {\n",
       "        vertical-align: top;\n",
       "    }\n",
       "\n",
       "    .dataframe thead th {\n",
       "        text-align: right;\n",
       "    }\n",
       "</style>\n",
       "<table border=\"1\" class=\"dataframe\">\n",
       "  <thead>\n",
       "    <tr style=\"text-align: right;\">\n",
       "      <th></th>\n",
       "      <th>first_name</th>\n",
       "      <th>last_name</th>\n",
       "      <th>company</th>\n",
       "      <th>position</th>\n",
       "      <th>industry</th>\n",
       "      <th>location</th>\n",
       "    </tr>\n",
       "  </thead>\n",
       "  <tbody>\n",
       "    <tr>\n",
       "      <th>0</th>\n",
       "      <td>John</td>\n",
       "      <td>Doe</td>\n",
       "      <td>ABC Corp</td>\n",
       "      <td>Marketing Manager</td>\n",
       "      <td>Technology</td>\n",
       "      <td>San Francisco</td>\n",
       "    </tr>\n",
       "    <tr>\n",
       "      <th>1</th>\n",
       "      <td>Jane</td>\n",
       "      <td>Smith</td>\n",
       "      <td>XYZ Inc</td>\n",
       "      <td>Social Media Specialist</td>\n",
       "      <td>Advertising &amp; Marketing</td>\n",
       "      <td>New York</td>\n",
       "    </tr>\n",
       "    <tr>\n",
       "      <th>2</th>\n",
       "      <td>Michael</td>\n",
       "      <td>Johnson</td>\n",
       "      <td>123 Company</td>\n",
       "      <td>Digital Marketing Analyst</td>\n",
       "      <td>Consulting</td>\n",
       "      <td>Chicago</td>\n",
       "    </tr>\n",
       "    <tr>\n",
       "      <th>3</th>\n",
       "      <td>Sarah</td>\n",
       "      <td>Williams</td>\n",
       "      <td>ABC Corp</td>\n",
       "      <td>Content Writer</td>\n",
       "      <td>Media &amp; Publishing</td>\n",
       "      <td>London</td>\n",
       "    </tr>\n",
       "    <tr>\n",
       "      <th>4</th>\n",
       "      <td>David</td>\n",
       "      <td>Brown</td>\n",
       "      <td>XYZ Inc</td>\n",
       "      <td>Brand Manager</td>\n",
       "      <td>Consumer Goods</td>\n",
       "      <td>Miami</td>\n",
       "    </tr>\n",
       "  </tbody>\n",
       "</table>\n",
       "</div>"
      ],
      "text/plain": [
       "  first_name last_name      company                   position  \\\n",
       "0       John       Doe     ABC Corp          Marketing Manager   \n",
       "1       Jane     Smith      XYZ Inc    Social Media Specialist   \n",
       "2    Michael   Johnson  123 Company  Digital Marketing Analyst   \n",
       "3      Sarah  Williams     ABC Corp             Content Writer   \n",
       "4      David     Brown      XYZ Inc              Brand Manager   \n",
       "\n",
       "                  industry       location  \n",
       "0               Technology  San Francisco  \n",
       "1  Advertising & Marketing       New York  \n",
       "2               Consulting        Chicago  \n",
       "3       Media & Publishing         London  \n",
       "4           Consumer Goods          Miami  "
      ]
     },
     "execution_count": 12,
     "metadata": {},
     "output_type": "execute_result"
    }
   ],
   "source": [
    "# Load Dataset\n",
    "df = pd.read_csv('Demo Profiles.csv')\n",
    "df.head()"
   ]
  },
  {
   "cell_type": "code",
   "execution_count": 15,
   "id": "507c4399",
   "metadata": {},
   "outputs": [],
   "source": [
    "# Text Preprocessing Techniques\n",
    "def preprocess_text(text):\n",
    "    text = text.lower()\n",
    "    \n",
    "    text = re.sub(f'[^\\w\\s]','',text)\n",
    "    text = re.sub(f'\\d+','',text)\n",
    "    \n",
    "    # Tokenization\n",
    "    tokens = nltk.word_tokenize(text)\n",
    "    \n",
    "    # Remove Stop Words\n",
    "    stop_words = set(stopwords.words('english'))\n",
    "    tokens = [word for word in tokens if word not in stop_words]\n",
    "    \n",
    "    # Stemming\n",
    "    stemmer = PorterStemmer()\n",
    "    stemmed = [stemmer.stem(word) for word in tokens]\n",
    "    return ' '.join(stemmed)"
   ]
  },
  {
   "cell_type": "code",
   "execution_count": 18,
   "id": "479a510b",
   "metadata": {},
   "outputs": [
    {
     "data": {
      "text/html": [
       "<div>\n",
       "<style scoped>\n",
       "    .dataframe tbody tr th:only-of-type {\n",
       "        vertical-align: middle;\n",
       "    }\n",
       "\n",
       "    .dataframe tbody tr th {\n",
       "        vertical-align: top;\n",
       "    }\n",
       "\n",
       "    .dataframe thead th {\n",
       "        text-align: right;\n",
       "    }\n",
       "</style>\n",
       "<table border=\"1\" class=\"dataframe\">\n",
       "  <thead>\n",
       "    <tr style=\"text-align: right;\">\n",
       "      <th></th>\n",
       "      <th>first_name</th>\n",
       "      <th>last_name</th>\n",
       "      <th>company</th>\n",
       "      <th>position</th>\n",
       "      <th>industry</th>\n",
       "      <th>location</th>\n",
       "      <th>processed_positon</th>\n",
       "      <th>processed_position</th>\n",
       "    </tr>\n",
       "  </thead>\n",
       "  <tbody>\n",
       "    <tr>\n",
       "      <th>0</th>\n",
       "      <td>John</td>\n",
       "      <td>Doe</td>\n",
       "      <td>ABC Corp</td>\n",
       "      <td>Marketing Manager</td>\n",
       "      <td>Technology</td>\n",
       "      <td>San Francisco</td>\n",
       "      <td>market manag</td>\n",
       "      <td>market manag</td>\n",
       "    </tr>\n",
       "    <tr>\n",
       "      <th>1</th>\n",
       "      <td>Jane</td>\n",
       "      <td>Smith</td>\n",
       "      <td>XYZ Inc</td>\n",
       "      <td>Social Media Specialist</td>\n",
       "      <td>Advertising &amp; Marketing</td>\n",
       "      <td>New York</td>\n",
       "      <td>social media specialist</td>\n",
       "      <td>social media specialist</td>\n",
       "    </tr>\n",
       "    <tr>\n",
       "      <th>2</th>\n",
       "      <td>Michael</td>\n",
       "      <td>Johnson</td>\n",
       "      <td>123 Company</td>\n",
       "      <td>Digital Marketing Analyst</td>\n",
       "      <td>Consulting</td>\n",
       "      <td>Chicago</td>\n",
       "      <td>digit market analyst</td>\n",
       "      <td>digit market analyst</td>\n",
       "    </tr>\n",
       "    <tr>\n",
       "      <th>3</th>\n",
       "      <td>Sarah</td>\n",
       "      <td>Williams</td>\n",
       "      <td>ABC Corp</td>\n",
       "      <td>Content Writer</td>\n",
       "      <td>Media &amp; Publishing</td>\n",
       "      <td>London</td>\n",
       "      <td>content writer</td>\n",
       "      <td>content writer</td>\n",
       "    </tr>\n",
       "    <tr>\n",
       "      <th>4</th>\n",
       "      <td>David</td>\n",
       "      <td>Brown</td>\n",
       "      <td>XYZ Inc</td>\n",
       "      <td>Brand Manager</td>\n",
       "      <td>Consumer Goods</td>\n",
       "      <td>Miami</td>\n",
       "      <td>brand manag</td>\n",
       "      <td>brand manag</td>\n",
       "    </tr>\n",
       "  </tbody>\n",
       "</table>\n",
       "</div>"
      ],
      "text/plain": [
       "  first_name last_name      company                   position  \\\n",
       "0       John       Doe     ABC Corp          Marketing Manager   \n",
       "1       Jane     Smith      XYZ Inc    Social Media Specialist   \n",
       "2    Michael   Johnson  123 Company  Digital Marketing Analyst   \n",
       "3      Sarah  Williams     ABC Corp             Content Writer   \n",
       "4      David     Brown      XYZ Inc              Brand Manager   \n",
       "\n",
       "                  industry       location        processed_positon  \\\n",
       "0               Technology  San Francisco             market manag   \n",
       "1  Advertising & Marketing       New York  social media specialist   \n",
       "2               Consulting        Chicago     digit market analyst   \n",
       "3       Media & Publishing         London           content writer   \n",
       "4           Consumer Goods          Miami              brand manag   \n",
       "\n",
       "        processed_position  \n",
       "0             market manag  \n",
       "1  social media specialist  \n",
       "2     digit market analyst  \n",
       "3           content writer  \n",
       "4              brand manag  "
      ]
     },
     "execution_count": 18,
     "metadata": {},
     "output_type": "execute_result"
    }
   ],
   "source": [
    "# Apply the technique\n",
    "df['processed_position'] = df['position'].apply(preprocess_text)\n",
    "df.head()"
   ]
  },
  {
   "cell_type": "code",
   "execution_count": 20,
   "id": "fa1f785c",
   "metadata": {},
   "outputs": [
    {
     "name": "stdout",
     "output_type": "stream",
     "text": [
      "[[0 0 0 ... 0 0 0]\n",
      " [0 0 0 ... 1 0 0]\n",
      " [0 0 1 ... 0 0 0]\n",
      " ...\n",
      " [0 0 0 ... 0 0 0]\n",
      " [0 0 0 ... 0 1 0]\n",
      " [0 0 0 ... 1 0 0]]\n",
      "[[0.         0.         0.         ... 0.         0.         0.        ]\n",
      " [0.         0.         0.         ... 0.60225663 0.         0.        ]\n",
      " [0.         0.         0.62026425 ... 0.         0.         0.        ]\n",
      " ...\n",
      " [0.         0.         0.         ... 0.         0.         0.        ]\n",
      " [0.         0.         0.         ... 0.         0.86288949 0.        ]\n",
      " [0.         0.         0.         ... 0.60225663 0.         0.        ]]\n"
     ]
    }
   ],
   "source": [
    "# Process of Text Vectorization\n",
    "\n",
    "# A: Bag-of-Words\n",
    "vectorizer = CountVectorizer()\n",
    "bow_matrix = vectorizer.fit_transform(df['processed_position'])\n",
    "print(bow_matrix.toarray())\n",
    "\n",
    "# B: TF-IDF\n",
    "tfidf_vectorizer = TfidfVectorizer()\n",
    "X = tfidf_vectorizer.fit_transform(df['processed_position'])\n",
    "print(X.toarray())"
   ]
  },
  {
   "cell_type": "code",
   "execution_count": 22,
   "id": "508160b1",
   "metadata": {},
   "outputs": [
    {
     "name": "stdout",
     "output_type": "stream",
     "text": [
      "[[0.         0.         0.         ... 0.         0.         0.        ]\n",
      " [0.         0.         0.         ... 0.60225663 0.         0.        ]\n",
      " [0.         0.         0.62026425 ... 0.         0.         0.        ]\n",
      " ...\n",
      " [0.         0.         0.         ... 0.         0.         0.        ]\n",
      " [0.         0.         0.         ... 0.         0.86288949 0.        ]\n",
      " [0.         0.         0.         ... 0.60225663 0.         0.        ]]\n"
     ]
    }
   ],
   "source": [
    "# Normalize the Vectorized data\n",
    "normalized_matrix = normalize(X, norm='l2', axis=1)\n",
    "print(normalized_matrix.toarray())"
   ]
  },
  {
   "cell_type": "code",
   "execution_count": 23,
   "id": "2c5915b9",
   "metadata": {},
   "outputs": [
    {
     "name": "stdout",
     "output_type": "stream",
     "text": [
      "0. Technology\n",
      "1. Advertising & Marketing\n",
      "2. Consulting\n",
      "3. Media & Publishing\n",
      "4. Consumer Goods\n",
      "5. E-commerce\n",
      "6. Fashion & Apparel\n",
      "7. Beauty & Cosmetics\n",
      "8. Market Research\n",
      "9.  Marketing Coordinator\n"
     ]
    }
   ],
   "source": [
    "# Encode the Target Variable\n",
    "unique_values = df['industry'].unique()\n",
    "for i, value in enumerate(unique_values, 0):\n",
    "    print(f\"{i}. {value}\")"
   ]
  },
  {
   "cell_type": "code",
   "execution_count": 24,
   "id": "b9755ce8",
   "metadata": {},
   "outputs": [
    {
     "name": "stdout",
     "output_type": "stream",
     "text": [
      "[9 1 3 8 4 5 6 9 1 3 8 4 2 7 9 1 8 5 6 9 3 8 4 1 5 6 9 1 3 8 4 9 5 6 8 4 2\n",
      " 7 9 1 8 5 6 9 3 8 4 1 5 6 9 1 3 8 4 9 5 6 8 4 2 7 9 1 8 5 6 9 3 8 4 1 5 6\n",
      " 9 1 3 8 4 9 5 6 8 4 2 7 9 1 0 5 6 9 3 8 4 1 5 6 9 1]\n"
     ]
    }
   ],
   "source": [
    "label_encoder = LabelEncoder()\n",
    "y = label_encoder.fit_transform(df['industry'])\n",
    "print(y)"
   ]
  },
  {
   "cell_type": "code",
   "execution_count": null,
   "id": "b5bbd325",
   "metadata": {},
   "outputs": [],
   "source": []
  }
 ],
 "metadata": {
  "kernelspec": {
   "display_name": "Python 3 (ipykernel)",
   "language": "python",
   "name": "python3"
  },
  "language_info": {
   "codemirror_mode": {
    "name": "ipython",
    "version": 3
   },
   "file_extension": ".py",
   "mimetype": "text/x-python",
   "name": "python",
   "nbconvert_exporter": "python",
   "pygments_lexer": "ipython3",
   "version": "3.9.12"
  }
 },
 "nbformat": 4,
 "nbformat_minor": 5
}

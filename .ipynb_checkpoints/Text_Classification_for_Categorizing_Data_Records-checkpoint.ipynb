{
 "cells": [
  {
   "cell_type": "markdown",
   "id": "9b8795a3",
   "metadata": {},
   "source": [
    "# Text Classification"
   ]
  },
  {
   "cell_type": "markdown",
   "id": "43c32212",
   "metadata": {},
   "source": [
    "The process of categorizing text into organized categories"
   ]
  },
  {
   "cell_type": "markdown",
   "id": "65af73d2",
   "metadata": {},
   "source": [
    "1. Data Collection: From a website or a database\n",
    "2. Preprocessing: To Remove anything that is not goint to be needed in order to understand the context and meaning.\n",
    "3. Feature Extraction: The key features that are going to be useful in determining what do we mean by that text and how can we classify into multiple categories.\n",
    "4. Model training: Pick a classification model that will enable us to pre-label the data and explain us the categories that the dataset belongs to.\n",
    "5. Prediction: Which class does our text belongs to?"
   ]
  },
  {
   "cell_type": "markdown",
   "id": "dfc1268f",
   "metadata": {},
   "source": [
    "## Component of Text Classification Sytems"
   ]
  },
  {
   "cell_type": "markdown",
   "id": "e3439955",
   "metadata": {},
   "source": [
    "Data Source: Documents, Online Articles, Collection using Web Scraping and APIs\n",
    "\n",
    "Preprocessing tools and libraries: Cleaning -> Tokenize -> Normalize -> Stop Words Removal -> Stemming and Lemmatizing\n",
    "\n",
    "Feature extraction: Vectorization (Transforming into Numerical Values), Embeddings (Capturing Semantic Meaning)\n",
    "\n",
    "Classification Algorithms: Naive Bayes, Logistic Regression, Support Vector Machine, Decision Trees, Random Forest, Neural Networks\n",
    "\n",
    "Evaluation and Optimization (Using accuracy optimization): Metrics, Hyperparameter tuning (Adjusting model parameters), Cross Validation (Testing Using Subsets of the data)"
   ]
  },
  {
   "cell_type": "markdown",
   "id": "d1437bea",
   "metadata": {},
   "source": [
    "## Binary vs. Multi-class Classification"
   ]
  },
  {
   "cell_type": "markdown",
   "id": "d95c5d92",
   "metadata": {},
   "source": [
    "Binary Classification: Categorizing data into two distinct groups\n",
    "\n",
    "Examples: Email Filtering, Sentiment Analysis\n",
    "\n",
    "Characteristics: Clear-cut decision boundary, Simpler as it involves only two classes, Commonly used for yes-no type decisions\n",
    "\n",
    "Mutli-Class Classification: More than two groups\n",
    "\n",
    "Examples: News Categorization, Product Categorization\n",
    "\n",
    "Characteristics: Multiple decision boundaries, More complex due to presence of several classes, Used when data can belong to multiple distinct categories."
   ]
  },
  {
   "cell_type": "markdown",
   "id": "44a96d58",
   "metadata": {},
   "source": [
    "### Feature Selection Example"
   ]
  },
  {
   "cell_type": "code",
   "execution_count": 4,
   "id": "ae5e033e",
   "metadata": {},
   "outputs": [],
   "source": [
    "from sklearn.feature_extraction.text import TfidfVectorizer\n",
    "from sklearn.feature_selection import SelectKBest, chi2 # select some of the best features in our text\n",
    "\n",
    "texts = [\"Sport news\", \"Cooking blog\"]\n",
    "\n",
    "labels = [0, 1] # 0 for sports, 1 for cooking\n",
    "\n",
    "X = TfidfVectorizer().fit_transform(texts) # Converting text data into numerical values\n",
    "\n",
    "s = SelectKBest(chi2, k=2).fit(X, labels) # Select the top features which are relevant\n"
   ]
  },
  {
   "cell_type": "markdown",
   "id": "d3ba9757",
   "metadata": {},
   "source": [
    "## Text Preprocessing and Vectorization Techniques"
   ]
  },
  {
   "cell_type": "markdown",
   "id": "4b567ee1",
   "metadata": {},
   "source": [
    "Vectorization methods = Bag-of-Words, TF-IDF, Word Embeddings"
   ]
  },
  {
   "cell_type": "code",
   "execution_count": 10,
   "id": "47600ee6",
   "metadata": {},
   "outputs": [
    {
     "name": "stdout",
     "output_type": "stream",
     "text": [
      "[[0.5 0.5 0.5 0.5]]\n"
     ]
    }
   ],
   "source": [
    "from sklearn.feature_extraction.text import TfidfVectorizer\n",
    "\n",
    "texts = [\"Machine Learning is fascinating\"]\n",
    "\n",
    "# Initialize and apply TF-IDF Vectorizer\n",
    "vectorizer = TfidfVectorizer()\n",
    "tfidf_matrix = vectorizer.fit_transform(texts)\n",
    "\n",
    "print(tfidf_matrix.toarray())"
   ]
  },
  {
   "cell_type": "markdown",
   "id": "7c6466f0",
   "metadata": {},
   "source": [
    "## Preprocessing the Profiles Dataset"
   ]
  },
  {
   "cell_type": "code",
   "execution_count": null,
   "id": "79afb7d6",
   "metadata": {},
   "outputs": [],
   "source": []
  }
 ],
 "metadata": {
  "kernelspec": {
   "display_name": "Python 3 (ipykernel)",
   "language": "python",
   "name": "python3"
  },
  "language_info": {
   "codemirror_mode": {
    "name": "ipython",
    "version": 3
   },
   "file_extension": ".py",
   "mimetype": "text/x-python",
   "name": "python",
   "nbconvert_exporter": "python",
   "pygments_lexer": "ipython3",
   "version": "3.9.12"
  }
 },
 "nbformat": 4,
 "nbformat_minor": 5
}

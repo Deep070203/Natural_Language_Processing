{
 "cells": [
  {
   "cell_type": "markdown",
   "id": "9a9af6ff",
   "metadata": {},
   "source": [
    "## Implementing Data Extraction Techniques"
   ]
  },
  {
   "cell_type": "code",
   "execution_count": 2,
   "id": "ad522c12",
   "metadata": {},
   "outputs": [
    {
     "data": {
      "text/html": [
       "<div>\n",
       "<style scoped>\n",
       "    .dataframe tbody tr th:only-of-type {\n",
       "        vertical-align: middle;\n",
       "    }\n",
       "\n",
       "    .dataframe tbody tr th {\n",
       "        vertical-align: top;\n",
       "    }\n",
       "\n",
       "    .dataframe thead th {\n",
       "        text-align: right;\n",
       "    }\n",
       "</style>\n",
       "<table border=\"1\" class=\"dataframe\">\n",
       "  <thead>\n",
       "    <tr style=\"text-align: right;\">\n",
       "      <th></th>\n",
       "      <th>Date</th>\n",
       "      <th>Name</th>\n",
       "      <th>Amount</th>\n",
       "      <th>Purpose</th>\n",
       "    </tr>\n",
       "  </thead>\n",
       "  <tbody>\n",
       "    <tr>\n",
       "      <th>0</th>\n",
       "      <td>2024-01-22</td>\n",
       "      <td>John Doe</td>\n",
       "      <td>123.45</td>\n",
       "      <td>Subscription</td>\n",
       "    </tr>\n",
       "  </tbody>\n",
       "</table>\n",
       "</div>"
      ],
      "text/plain": [
       "         Date      Name  Amount       Purpose\n",
       "0  2024-01-22  John Doe  123.45  Subscription"
      ]
     },
     "execution_count": 2,
     "metadata": {},
     "output_type": "execute_result"
    }
   ],
   "source": [
    "# Intro to Data Extraction\n",
    "import pandas as pd\n",
    "\n",
    "def convert(unstructured_data):\n",
    "    \n",
    "    key_value_pairs = unstructured_data.split(\", \")\n",
    "    \n",
    "    # Initializing an empty dic to hold the structured data\n",
    "    structured_data = {}\n",
    "\n",
    "    for pair in key_value_pairs:\n",
    "        # Splitting the pair by ': '\n",
    "        key, value = pair.split(\": \")\n",
    "\n",
    "        # Checking if val is numeric and converting it to float\n",
    "        if value.replace('.', '', 1).isdigit():\n",
    "            value = float(value)\n",
    "        elif value.startswith('$'):\n",
    "            value = float(value[1:])\n",
    "\n",
    "        structured_data[key] = value\n",
    "\n",
    "    return structured_data\n",
    "\n",
    "unstructured_data = \"Date: 2024-01-22, Name: John Doe, Amount: $123.45, Purpose: Subscription\"\n",
    "\n",
    "structured_data = convert(unstructured_data)\n",
    "\n",
    "df = pd.DataFrame([structured_data])\n",
    "df.head()"
   ]
  },
  {
   "cell_type": "code",
   "execution_count": 4,
   "id": "55ae075f",
   "metadata": {},
   "outputs": [
    {
     "data": {
      "text/plain": [
       "'Patient ID: 12345, Name: John Doe, Condition: Flu, SSN: 987-65-xxxx'"
      ]
     },
     "execution_count": 4,
     "metadata": {},
     "output_type": "execute_result"
    }
   ],
   "source": [
    "# Challenges and Ethics\n",
    "import re\n",
    "\n",
    "unstructured_data = \"Patient ID: 12345, Name: John Doe, Condition: Flu, SSN: 987-65-4321\"\n",
    "\n",
    "pattern = r'(\\d{3}-\\d{2})-\\d{4}'\n",
    "\n",
    "replacement = r'\\1-xxxx'\n",
    "\n",
    "anonymized_data = re.sub(pattern, replacement, unstructured_data)\n",
    "\n",
    "anonymized_data"
   ]
  },
  {
   "cell_type": "code",
   "execution_count": 5,
   "id": "90edee81",
   "metadata": {},
   "outputs": [
    {
     "data": {
      "text/plain": [
       "{'Invoice Number': 'INV-123-456,',\n",
       " 'Date': '2024-01-22,',\n",
       " 'Total Amount': '123.45'}"
      ]
     },
     "execution_count": 5,
     "metadata": {},
     "output_type": "execute_result"
    }
   ],
   "source": [
    "# Rule based Extraction Techniques\n",
    "import re\n",
    "\n",
    "document = \"INV-123-456, Date: 2024-01-22, $123.45\"\n",
    "\n",
    "patterns = {\n",
    "    'Invoice Number': r'(\\S+)',\n",
    "    'Date': r'Date: (\\S+)',\n",
    "    'Total Amount': r'\\$([0-9.]+)'\n",
    "}\n",
    "\n",
    "extracted_data = {key: re.search(pattern, document).group(1) for key, pattern in patterns.items()}\n",
    "\n",
    "extracted_data"
   ]
  },
  {
   "cell_type": "code",
   "execution_count": 6,
   "id": "063c9acb",
   "metadata": {},
   "outputs": [
    {
     "data": {
      "text/plain": [
       "{'Invoice Number': 'INV-789-101,',\n",
       " 'Date': '2024-01-23,',\n",
       " 'Total Amount': '421.37'}"
      ]
     },
     "execution_count": 6,
     "metadata": {},
     "output_type": "execute_result"
    }
   ],
   "source": [
    "# Advanced Rule-based Extraction\n",
    "import re\n",
    "\n",
    "document = \"**** Invoice **** Number: INV-789-101, Date (Issued): 2024-01-23, Total: $421.37\"\n",
    "\n",
    "patterns = {\n",
    "    'Invoice Number': r'Number: (\\S+)',\n",
    "    'Date': r'Date.*?: (\\S+)',\n",
    "    'Total Amount': r'Total.*?: \\$([0-9.]+)'\n",
    "}\n",
    "\n",
    "extracted_data = {key: re.search(pattern, document).group(1) for key, pattern in patterns.items()}\n",
    "\n",
    "extracted_data"
   ]
  },
  {
   "cell_type": "markdown",
   "id": "b30dd660",
   "metadata": {},
   "source": [
    "### Advanced Data Extraction Techniques"
   ]
  },
  {
   "cell_type": "code",
   "execution_count": 14,
   "id": "a756b1b5",
   "metadata": {},
   "outputs": [
    {
     "name": "stdout",
     "output_type": "stream",
     "text": [
      "['amount']\n"
     ]
    }
   ],
   "source": [
    "# Machine learning for data extraction\n",
    "from sklearn.feature_extraction.text import CountVectorizer\n",
    "from sklearn.naive_bayes import MultinomialNB\n",
    "\n",
    "docs = [\"Invoice amount $123\", \"Date of transaction: 2024-01-22\", \"Payment: $456\"]\n",
    "labels = ['amount', 'date', 'amount']\n",
    "\n",
    "vectorizer = CountVectorizer()\n",
    "\n",
    "X = vectorizer.fit_transform(docs)\n",
    "\n",
    "clf = MultinomialNB()\n",
    "clf.fit(X, labels)\n",
    "\n",
    "print(clf.predict(vectorizer.transform(['Payment due: $123'])))"
   ]
  },
  {
   "cell_type": "code",
   "execution_count": 16,
   "id": "9d6f607a",
   "metadata": {},
   "outputs": [
    {
     "data": {
      "text/plain": [
       "[('123.45', 'MONEY'), ('2024-01-25', 'DATE')]"
      ]
     },
     "execution_count": 16,
     "metadata": {},
     "output_type": "execute_result"
    }
   ],
   "source": [
    "# Deep Leaning in data extraction\n",
    "# !python -m spacy download en_core_web_sm\n",
    "\n",
    "import spacy\n",
    "\n",
    "# Load a pre-trained NER model\n",
    "nlp = spacy.load(\"en_core_web_sm\")\n",
    "\n",
    "text = \"This is a simple invoice text with an amount of $123.45 due by 2024-01-25.\"\n",
    "\n",
    "doc = nlp(text)\n",
    "entities = [(ent.text, ent.label_) for ent in doc.ents]\n",
    "\n",
    "entities"
   ]
  },
  {
   "cell_type": "code",
   "execution_count": 17,
   "id": "699af09c",
   "metadata": {},
   "outputs": [
    {
     "name": "stdout",
     "output_type": "stream",
     "text": [
      "0.5 0.5 0.5\n"
     ]
    }
   ],
   "source": [
    "# Evaluating Data Extraction models\n",
    "from sklearn.metrics import precision_score, recall_score, f1_score\n",
    "\n",
    "true_labels = [0, 1, 0, 1, 0]\n",
    "predicted_labels = [0, 1, 0, 0, 1]\n",
    "\n",
    "pr = precision_score(true_labels, predicted_labels)\n",
    "re = recall_score(true_labels, predicted_labels)\n",
    "f1 = f1_score(true_labels, predicted_labels)\n",
    "\n",
    "print(pr, re, f1)"
   ]
  },
  {
   "cell_type": "code",
   "execution_count": null,
   "id": "d0e79772",
   "metadata": {},
   "outputs": [],
   "source": [
    "# Handling diverse documents and challenges\n",
    "!pip install pytesseract\n",
    "\n",
    "import pytesseract\n",
    "from PIL import Image\n",
    "import spacy\n",
    "\n",
    "# pytesseact.image_to_string(image)"
   ]
  }
 ],
 "metadata": {
  "kernelspec": {
   "display_name": "Python 3 (ipykernel)",
   "language": "python",
   "name": "python3"
  },
  "language_info": {
   "codemirror_mode": {
    "name": "ipython",
    "version": 3
   },
   "file_extension": ".py",
   "mimetype": "text/x-python",
   "name": "python",
   "nbconvert_exporter": "python",
   "pygments_lexer": "ipython3",
   "version": "3.9.12"
  }
 },
 "nbformat": 4,
 "nbformat_minor": 5
}

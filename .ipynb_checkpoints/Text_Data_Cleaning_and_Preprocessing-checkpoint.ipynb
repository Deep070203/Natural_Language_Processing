{
 "cells": [
  {
   "cell_type": "markdown",
   "id": "2be9c1ad",
   "metadata": {},
   "source": [
    "# Data Confidentiality in Text Data"
   ]
  },
  {
   "cell_type": "markdown",
   "id": "6cd62c5b",
   "metadata": {},
   "source": [
    "Anonymizing sensitive information in text data"
   ]
  },
  {
   "cell_type": "code",
   "execution_count": 4,
   "id": "9b387092",
   "metadata": {},
   "outputs": [
    {
     "name": "stdout",
     "output_type": "stream",
     "text": [
      "My name is [NAME].\n"
     ]
    }
   ],
   "source": [
    "import re\n",
    "\n",
    "# Example text\n",
    "text = \"My name is Deep Shah.\"\n",
    "\n",
    "# Simple pattern to match names\n",
    "name_pattern = r'\\b[A-Z][a-z]+ [A-Z][a-z]+\\b'\n",
    "\n",
    "# Replaces names with '[NAME]'\n",
    "anonymized_text = re.sub(name_pattern, '[NAME]', text)\n",
    "\n",
    "print(anonymized_text)"
   ]
  },
  {
   "cell_type": "markdown",
   "id": "f2dd63cc",
   "metadata": {},
   "source": [
    "Noise Removal in Text Data"
   ]
  },
  {
   "cell_type": "code",
   "execution_count": 6,
   "id": "781d3d93",
   "metadata": {},
   "outputs": [
    {
     "name": "stdout",
     "output_type": "stream",
     "text": [
      "['beautiful', 'day']\n"
     ]
    },
    {
     "name": "stderr",
     "output_type": "stream",
     "text": [
      "[nltk_data] Downloading package stopwords to\n",
      "[nltk_data]     /Users/deepshah/nltk_data...\n",
      "[nltk_data]   Package stopwords is already up-to-date!\n"
     ]
    }
   ],
   "source": [
    "import re\n",
    "import nltk\n",
    "from nltk.corpus import stopwords\n",
    "nltk.download('stopwords')\n",
    "\n",
    "text = \"It's a beautiful day!\"\n",
    "\n",
    "text_no_punc = re.sub(r'[^\\w\\s]','', text)\n",
    "\n",
    "tokens = text_no_punc.split()\n",
    "\n",
    "stop_words = set(stopwords.words('english'))\n",
    "\n",
    "filtered_text = [word for word in tokens if not word.lower() in stop_words]\n",
    "\n",
    "print(filtered_text)"
   ]
  },
  {
   "cell_type": "markdown",
   "id": "58203236",
   "metadata": {},
   "source": [
    "## Analyzing a Text Dataset Addressing Missing Data and Noise"
   ]
  },
  {
   "cell_type": "code",
   "execution_count": 7,
   "id": "0248042f",
   "metadata": {},
   "outputs": [],
   "source": [
    "import pandas as pd\n",
    "import re"
   ]
  },
  {
   "cell_type": "code",
   "execution_count": 8,
   "id": "b5ff2f70",
   "metadata": {},
   "outputs": [
    {
     "name": "stdout",
     "output_type": "stream",
     "text": [
      "   ID Social Media Activity Questionnaire Completions Product Feedback  \\\n",
      "0   1                Active                 Completed         Positive   \n",
      "1   2              Inactive             Not Completed          Neutral   \n",
      "2   3                Active                 Completed         Negative   \n",
      "3   4                Active                 Completed         Positive   \n",
      "4   5              Inactive             Not Completed         Positive   \n",
      "\n",
      "          Notes From Previous Conversations  \n",
      "0                Interested in new features  \n",
      "1               Asked about pricing options  \n",
      "2        Expressed concerns about usability  \n",
      "3            Recommended product to friends  \n",
      "4  Asked for additional product information  \n"
     ]
    }
   ],
   "source": [
    "# Load Dataset\n",
    "file_path = 'Qualitative data.csv'\n",
    "data = pd.read_csv(file_path)\n",
    "print(data.head())"
   ]
  },
  {
   "cell_type": "markdown",
   "id": "32e5a691",
   "metadata": {},
   "source": [
    "### Identify Missing Values"
   ]
  },
  {
   "cell_type": "code",
   "execution_count": 10,
   "id": "b5572e8a",
   "metadata": {},
   "outputs": [
    {
     "name": "stdout",
     "output_type": "stream",
     "text": [
      "ID                                   0\n",
      "Social Media Activity                0\n",
      "Questionnaire Completions            0\n",
      "Product Feedback                     0\n",
      "Notes From Previous Conversations    0\n",
      "dtype: int64\n"
     ]
    }
   ],
   "source": [
    "print(data.isnull().sum())"
   ]
  },
  {
   "cell_type": "markdown",
   "id": "f222de45",
   "metadata": {},
   "source": [
    "### Handle Missing Values"
   ]
  },
  {
   "cell_type": "code",
   "execution_count": 11,
   "id": "9f00a521",
   "metadata": {},
   "outputs": [],
   "source": [
    "# Handling missing data (fill with a placeholder)\n",
    "data.fillna('Missing', inplace=True)"
   ]
  },
  {
   "cell_type": "code",
   "execution_count": 12,
   "id": "ddba5526",
   "metadata": {},
   "outputs": [],
   "source": [
    "# Handling missing data (drop missing value)\n",
    "data.dropna(inplace=True)"
   ]
  },
  {
   "cell_type": "markdown",
   "id": "f8d87b1f",
   "metadata": {},
   "source": [
    "### Identify and Clean Noise"
   ]
  },
  {
   "cell_type": "code",
   "execution_count": 13,
   "id": "69691a8f",
   "metadata": {},
   "outputs": [],
   "source": [
    "# Function to clean noise from text\n",
    "def clean_noise(text):\n",
    "    # remove special characters, number, punctuations except for emojis\n",
    "    text = re.sub(r'[^a-zA-Z\\s\\U0001F600-\\U0001F64F]', '', text)\n",
    "    return text"
   ]
  },
  {
   "cell_type": "code",
   "execution_count": 14,
   "id": "6dda6559",
   "metadata": {},
   "outputs": [
    {
     "name": "stdout",
     "output_type": "stream",
     "text": [
      "0                  Interested in new features\n",
      "1                 Asked about pricing options\n",
      "2          Expressed concerns about usability\n",
      "3              Recommended product to friends\n",
      "4    Asked for additional product information\n",
      "Name: Cleaned_Text, dtype: object\n"
     ]
    }
   ],
   "source": [
    "data['Cleaned_Text'] = data['Notes From Previous Conversations'].apply(clean_noise)\n",
    "\n",
    "print(data['Cleaned_Text'].head())"
   ]
  }
 ],
 "metadata": {
  "kernelspec": {
   "display_name": "Python 3 (ipykernel)",
   "language": "python",
   "name": "python3"
  },
  "language_info": {
   "codemirror_mode": {
    "name": "ipython",
    "version": 3
   },
   "file_extension": ".py",
   "mimetype": "text/x-python",
   "name": "python",
   "nbconvert_exporter": "python",
   "pygments_lexer": "ipython3",
   "version": "3.9.12"
  }
 },
 "nbformat": 4,
 "nbformat_minor": 5
}
